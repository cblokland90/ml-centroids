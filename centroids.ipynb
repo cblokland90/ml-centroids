{
 "nbformat": 4,
 "nbformat_minor": 0,
 "metadata": {
  "colab": {
   "name": "Kopie van ML_ex4_L_Bleiksch.ipynb",
   "provenance": [],
   "collapsed_sections": []
  },
  "kernelspec": {
   "name": "python3",
   "display_name": "Python 3"
  },
  "language_info": {
   "name": "python"
  }
 },
 "cells": [
  {
   "cell_type": "markdown",
   "source": [
    "# Exercise sheet 4\n",
    "---\n",
    "**Machine Learning for Physics and Astronomy**\n",
    "\n",
    "Semester 2, Period 5, 2021/2022\n",
    "\n",
    "dr. Christoph Weniger, Andrea Visibile, Christiaan van Asperen, Dion Noordhuis, Kamile Lukosiute, Mathis Gerdes, Noemi Anau Montel, Silvia Cassanelli\n",
    "\n",
    "To be handed in until **11/05/2022** - 15 points in total\n",
    "\n",
    "---\n",
    "\n"
   ],
   "metadata": {
    "id": "dZ-xt2hWH0QY",
    "pycharm": {
     "name": "#%% md\n"
    }
   }
  },
  {
   "cell_type": "markdown",
   "source": [
    "## Chapter 7: Clustering \n"
   ],
   "metadata": {
    "id": "L_g4qwx0H3-g",
    "pycharm": {
     "name": "#%% md\n"
    }
   }
  },
  {
   "cell_type": "markdown",
   "source": [
    "### A. K-Means and EM (9pt)"
   ],
   "metadata": {
    "id": "B4kG93-uH6St",
    "pycharm": {
     "name": "#%% md\n"
    }
   }
  },
  {
   "cell_type": "markdown",
   "source": [
    "*Topics: clustering, unsupervised learning*\n",
    "\n",
    "**Reading Material: Murphy 11.4, and especially 11.4.2 and especially especially 11.4.2.5**\n",
    "\n",
    "In this exercise, we will be implementing the K-means clustering algorithm by hand. Although efficient algorithms (that you should definitely use for your own projects!) are implemented in `scikit-learn`, sometimes it's helpful to see how things work by writing your own implementation.\n",
    "\n",
    "We will work with some previously generated data. \n"
   ],
   "metadata": {
    "id": "I2wOb5gUH9jb",
    "pycharm": {
     "name": "#%% md\n"
    }
   }
  },
  {
   "cell_type": "code",
   "source": [],
   "metadata": {
    "id": "h-8BEu2zaWSk",
    "pycharm": {
     "name": "#%%\n"
    },
    "trusted": false
   },
   "execution_count": null,
   "outputs": []
  },
  {
   "cell_type": "code",
   "execution_count": 1,
   "outputs": [
    {
     "data": {
      "text/plain": "<Figure size 360x360 with 1 Axes>",
      "image/png": "[encoded data removed]"
     },
     "metadata": {
      "needs_background": "light"
     },
     "output_type": "display_data"
    },
    {
     "name": "stdout",
     "output_type": "stream",
     "text": [
      "[12 20 28 18 29 33 24 45 45 52 51 52 55 53 55 61 64 69 72]\n",
      "[39 36 30 52 54 46 55 59 63 70 66 63 58 23 14  8 19  7 24]\n"
     ]
    }
   ],
   "source": [
    "import pandas as pd\n",
    "import numpy as np\n",
    "import matplotlib.pyplot as plt\n",
    "from matplotlib.colors import ListedColormap\n",
    "\n",
    "\n",
    "# Some previously geenerated random data in 2 dimensions\n",
    "data = np.array([ [12, 20, 28, 18, 29, 33, 24, 45, 45, 52, 51, 52, 55, 53, 55, 61, 64, 69, 72],\n",
    "     [39, 36, 30, 52, 54, 46, 55, 59, 63, 70, 66, 63, 58, 23, 14, 8, 19, 7, 24]]).T\n",
    "x1 = data[:,0]\n",
    "x2 = data[:,1]\n",
    "fig = plt.figure(figsize=(5, 5))\n",
    "plt.scatter(data[:,0], data[:,1], color='k')\n",
    "plt.xlabel(r'$x_1$')\n",
    "plt.ylabel(r'$x_2$')\n",
    "plt.show()\n",
    "\n",
    "print(x1)\n",
    "print(x2)"
   ],
   "metadata": {
    "collapsed": false,
    "pycharm": {
     "name": "#%%\n"
    }
   }
  },
  {
   "cell_type": "markdown",
   "source": [
    "1. Take a look at the plot of our datapoints. Generate initial random values for the centroids (means) such that they are randomly distributed throughout the whole data space. Use $k=3$. Your centroids should be stored as a $k \\times 2$ numpy arrays, with each row giving the $x_1, x_2$ values of the centroid. Plot a scatter plot of the data along with your centroids in red, green, and blue. (2pt)"
   ],
   "metadata": {
    "collapsed": false,
    "pycharm": {
     "name": "#%% md\n"
    }
   }
  },
  {
   "cell_type": "code",
   "execution_count": 3,
   "outputs": [
    {
     "data": {
      "text/plain": "<matplotlib.collections.PathCollection at 0x7f1f307fe6a0>"
     },
     "execution_count": 3,
     "metadata": {},
     "output_type": "execute_result"
    },
    {
     "data": {
      "text/plain": "<Figure size 432x288 with 1 Axes>",
      "image/png": "[encoded data removed]"
     },
     "metadata": {
      "needs_background": "light"
     },
     "output_type": "display_data"
    }
   ],
   "source": [
    "\n",
    "np.random.seed(1)\n",
    "def gen_centroids(data_file, k):\n",
    "  x1_samples = np.random.randint(0 , np.max(data_file) , size = k)\n",
    "  x2_samples = np.random.randint(0 , np.max(data_file) , size = k)\n",
    "\n",
    "  # Create the kx2 array with eacht row value x1 and x2\n",
    "  centroids = np.array(list(zip(x1_samples,x2_samples)))\n",
    "  return centroids\n",
    "  \n",
    "centroids_plot1 = gen_centroids(data, k=3)\n",
    "plt.scatter(data[:,0], data[:,1], color='black')\n",
    "\n",
    "plt.xlabel('x1')\n",
    "plt.ylabel(r'x2')\n",
    "plt.scatter(centroids_plot1[0,0],centroids_plot1[0,1],color='red')\n",
    "plt.scatter(centroids_plot1[1,0],centroids_plot1[1,1], color='blue')\n",
    "plt.scatter(centroids_plot1[2,0],centroids_plot1[2,1], color='green')"
   ],
   "metadata": {
    "collapsed": false,
    "pycharm": {
     "name": "#%%\n"
    }
   }
  },
  {
   "cell_type": "markdown",
   "source": [
    "\n",
    "2. (Assignment/Expectation) Define the function `closest_centroid`, which should return an array giving the index (0, 1, or 2) of the closest centroid for each datapoint. This function will tell us which centroid is closest. This function plays the same role as \n",
    "\n",
    "$$r_{n k}=\\left\\{\\begin{array}{ll}\n",
    "1 & \\text { if } k=\\arg \\min _{j}\\left\\|\\mathbf{x}_{n}-\\boldsymbol{\\mu}_{j}\\right\\|^{2} , \\\\\n",
    "0 & \\text { otherwise } .\n",
    "\\end{array}\\right.$$\n",
    "\n",
    "(although returning directly $k$, not the one-hot encoding).\n",
    "\n",
    "Hint: `np.argmin` could be useful here. (2pt)\n",
    "\n"
   ],
   "metadata": {
    "collapsed": false,
    "pycharm": {
     "name": "#%% md\n"
    }
   }
  },
  {
   "cell_type": "code",
   "execution_count": 4,
   "outputs": [],
   "source": [
    "def closest_centroid(k, data_file, centroids):\n",
    "    closest_arr = np.zeros(len(data_file))\n",
    "    for i in range(len(data_file)):\n",
    "      r_nk= np.zeros(k)\n",
    "      # For every data point calculate r_nk and check which one is closest\n",
    "      for j in range(k):\n",
    "        r_nk[j] = np.sum((data_file[i,:] - centroids[j,:]) ** 2)\n",
    "        # print(r_nk[j]) \n",
    "        closest_arr[i] = np.argmin(r_nk)\n",
    "    return closest_arr\n",
    "\n",
    "# centroids_plot1 = gen_centroids(data, K)\n",
    "# closest_arr = closest_centroid(K,data,centroids_plot1)\n",
    "# print(closest_arr)\n",
    "# print(data)"
   ],
   "metadata": {
    "collapsed": false,
    "pycharm": {
     "name": "#%%\n"
    }
   }
  },
  {
   "cell_type": "markdown",
   "source": [
    "3. (Moving Centroids/Maximization) Define the function `move_centroids` which should return the new values of the means i.e. centroids, given the previous assignments. This function is equivalent to\n",
    "$$\\boldsymbol{\\mu}_{k}=\\frac{\\sum_{n} r_{n k} \\mathbf{x}_{n}}{\\sum_{n} r_{n k}}.$$ (1pt)"
   ],
   "metadata": {
    "collapsed": false,
    "pycharm": {
     "name": "#%% md\n"
    }
   }
  },
  {
   "cell_type": "code",
   "execution_count": 8,
   "outputs": [],
   "source": [
    "def move_centroids(x, y, closest,data_file, k):\n",
    "  intervals_0_x1 =[]\n",
    "  intervals_1_x1=[]\n",
    "  intervals_2_x1=[]\n",
    "  intervals_0_x2 =[]\n",
    "  intervals_1_x2=[]\n",
    "  intervals_2_x2=[]\n",
    "  mean_x1 = []\n",
    "  mean_x2 = []\n",
    "\n",
    "  for j in range(len(data_file)):\n",
    "    if closest[j] == 0:\n",
    "      intervals_0_x1.append(x[j])\n",
    "      intervals_0_x2.append(y[j])\n",
    "    elif closest[j] == 1:\n",
    "      intervals_1_x1.append(x[j])\n",
    "      intervals_1_x2.append(y[j])\n",
    "    else:\n",
    "      intervals_2_x1.append(x[j])\n",
    "      intervals_2_x2.append(y[j])\n",
    "\n",
    "  intervals_0 =np.array(list(zip(intervals_0_x1,intervals_0_x2)))\n",
    "  intervals_1 = np.array(list(zip(intervals_1_x1,intervals_1_x2)))\n",
    "  intervals_2 = np.array(list(zip(intervals_2_x1,intervals_2_x2)))\n",
    "  \n",
    "  mean_x1.append(round(np.mean(intervals_0_x1)))\n",
    "  print(np.mean(intervals_0_x1))\n",
    "  mean_x1.append(round(np.mean(intervals_1_x1)))\n",
    "  print(np.mean(intervals_1_x1))\n",
    "  mean_x1.append(round(np.mean(intervals_2_x1)))\n",
    "\n",
    "  mean_x2.append(round(np.mean(intervals_0_x2)))\n",
    "  mean_x2.append(round(np.mean(intervals_1_x2)))\n",
    "  mean_x2.append(round(np.mean(intervals_2_x2)))\n",
    "\n",
    "  new_centroids = np.array(list(zip(mean_x1,mean_x2)))\n",
    "  return intervals_0,intervals_1,intervals_2, new_centroids\n"
   ],
   "metadata": {
    "collapsed": false,
    "pycharm": {
     "name": "#%%\n"
    }
   }
  },
  {
   "cell_type": "markdown",
   "source": [
    "4. (Iteration) Now we are ready to put our E and M steps together. Decide on a termination criterion, and run your training. This should be only a few steps. At each training step, visualize the assignments of the data points to their respective centroid in plots. (2pt)"
   ],
   "metadata": {
    "collapsed": false,
    "pycharm": {
     "name": "#%% md\n"
    }
   }
  },
  {
   "cell_type": "code",
   "execution_count": 10,
   "outputs": [
    {
     "name": "stdout",
     "output_type": "stream",
     "text": [
      "While loopin old cs:  [[22  0]\n",
      " [57 60]\n",
      " [ 1  8]] \n",
      "\n",
      "53.25\n",
      "45.61538461538461\n",
      "while loopin new cs: [[53 15]\n",
      " [46 50]\n",
      " [16 38]]\n",
      "Difference 50.3189825016365\n",
      "While loopin old cs:  [[53 15]\n",
      " [46 50]\n",
      " [16 38]] \n",
      "\n",
      "62.333333333333336\n",
      "45.25\n",
      "while loopin new cs: [[62 16]\n",
      " [45 60]\n",
      " [20 42]]\n",
      "Difference 14.66287829861518\n",
      "While loopin old cs:  [[62 16]\n",
      " [45 60]\n",
      " [20 42]] \n",
      "\n",
      "62.333333333333336\n",
      "50.0\n",
      "while loopin new cs: [[62 16]\n",
      " [50 63]\n",
      " [23 45]]\n",
      "Difference 7.211102550927978\n",
      "While loopin old cs:  [[62 16]\n",
      " [50 63]\n",
      " [23 45]] \n",
      "\n",
      "62.333333333333336\n",
      "50.0\n",
      "while loopin new cs: [[62 16]\n",
      " [50 63]\n",
      " [23 45]]\n",
      "Difference 0.0\n",
      "Stop\n"
     ]
    }
   ],
   "source": [
    "\n",
    "def k_means(x, y, data_file, k):\n",
    "    cs = gen_centroids(data_file,k)\n",
    "    # closest_array = closest_centroid(k, data_file, cs)\n",
    "    # old_closest_array = []\n",
    "    # int0,int1,int2,new_cs = move_centroids(x, y,closest_array,data_file,k)\n",
    "    \n",
    "    max_tries = 10\n",
    "    count = 0\n",
    "    # print(\"New centroids before loop: \", new_cs, \"\\n\")\n",
    "    # print(\"Old centroids before loop: \", cs, \"\\n\")\n",
    "    old_array = []\n",
    "    \n",
    "    while (True):\n",
    "      count+=1\n",
    "      max_tries-=1\n",
    "\n",
    "      print(\"While loopin old cs: \", cs, \"\\n\")\n",
    "\n",
    "      closest_array = closest_centroid(k, data_file, cs)\n",
    "      int0, int1, int2, new_cs = move_centroids(x, y, closest_array, data_file, k)\n",
    "      print(\"while loopin new cs:\" , new_cs)\n",
    "           \n",
    "      difference = np.linalg.norm(cs-new_cs)\n",
    "      print(\"Difference\", difference)\n",
    "      cs=new_cs\n",
    "\n",
    "      # plt.title(\"Assignments of datapoints after attemp \" +  str(count))\n",
    "      # plt.scatter(int0[:,0], int0[:,1],c= \"red\")\n",
    "      # plt.scatter(int1[:,0],int1[:,1], c ='blue')\n",
    "      # plt.scatter(int2[:,0],int2[:,1],c =\"green\")\n",
    "      # plt.scatter(new_cs[0,0],new_cs[0,1],marker= '+',color='black')\n",
    "      # plt.scatter(new_cs[1,0],new_cs[1,1],marker= '+',color='black')\n",
    "      # plt.scatter(new_cs[2,0],new_cs[2,1],marker= '+',color='black')\n",
    "      # plt.plot()\n",
    "\n",
    "      if difference == 0 or max_tries == 0:\n",
    "        print(\"Stop\")\n",
    "        break\n",
    "    \n",
    "    # print(\"New centroids after loop: \", new_cs, \"\\n\")\n",
    "    # print(\"Old centroids after loop: \", cs, \"\\n\")\n",
    "    # print(\"count:\", count)\n",
    "    return 0  \n",
    "\n",
    "\n",
    "k_means4 = k_means(x1, x2, data, 3)\n",
    "\n"
   ],
   "metadata": {
    "collapsed": false,
    "pycharm": {
     "name": "#%%\n"
    }
   }
  },
  {
   "cell_type": "code",
   "execution_count": null,
   "outputs": [],
   "source": [
    "\n",
    "\n",
    "# plt.scatter(intervals_0[:,0],intervals_0[:,1], c='r', label = \"clusterd data\")\n",
    "# plt.scatter(intervals_1[:,0],intervals_1[:,1], c='g',label = \"clusterd data\")\n",
    "# plt.scatter(intervals_2[:,0],intervals_2[:,1], c='blue',label = \"clusterd data\")\n",
    "# plt.scatter(new_centroids[:, 0], new_centroids[:, 1], label = \"centroids\",marker= '+',color='black')\n",
    "# plt.title('K-means Clustering with 3 Centroids')\n",
    "# plt.xlabel('x1')\n",
    "# plt.ylabel('x2')\n",
    "# plt.legend()"
   ],
   "metadata": {
    "collapsed": false,
    "pycharm": {
     "name": "#%%\n"
    }
   }
  },
  {
   "cell_type": "markdown",
   "source": [
    "5. Discuss briefly when the algorithm does or does not converge. (1 pt)"
   ],
   "metadata": {
    "collapsed": false,
    "pycharm": {
     "name": "#%% md\n"
    }
   }
  },
  {
   "cell_type": "markdown",
   "source": [
    "Your answer here"
   ],
   "metadata": {
    "collapsed": false,
    "pycharm": {
     "name": "#%% md\n"
    }
   }
  },
  {
   "cell_type": "markdown",
   "source": [
    "6. Now load the data below and run your K-means algorithm again for $k=3$. Do you obtain good results? How would a method using Gaussian mixture models perform differently? (1 pt)"
   ],
   "metadata": {
    "collapsed": false,
    "pycharm": {
     "name": "#%% md\n"
    }
   }
  },
  {
   "cell_type": "code",
   "execution_count": null,
   "outputs": [],
   "source": [
    "!wget https://raw.githubusercontent.com/ChristiaanvA/ml4pha_datasets/main/data_mouse.csv"
   ],
   "metadata": {
    "collapsed": false,
    "pycharm": {
     "name": "#%%\n"
    }
   }
  },
  {
   "cell_type": "code",
   "execution_count": null,
   "outputs": [],
   "source": [
    "data_mouse = pd.read_csv('/content/data_mouse.csv')\n",
    "data_mouse = data_mouse.to_numpy()\n",
    "\n",
    "fig = plt.figure(figsize=(5, 5))\n",
    "plt.scatter(data_mouse[:,0], data_mouse[:,1], color='k')\n",
    "plt.xlabel(r'$x_1$')\n",
    "plt.ylabel(r'$x_2$')"
   ],
   "metadata": {
    "collapsed": false,
    "pycharm": {
     "name": "#%%\n"
    }
   }
  },
  {
   "cell_type": "code",
   "execution_count": null,
   "outputs": [],
   "source": [
    "#Your code here"
   ],
   "metadata": {
    "collapsed": false,
    "pycharm": {
     "name": "#%%\n"
    }
   }
  },
  {
   "cell_type": "markdown",
   "source": [
    "Your answer here"
   ],
   "metadata": {
    "collapsed": false,
    "pycharm": {
     "name": "#%% md\n"
    }
   }
  }
 ]
}